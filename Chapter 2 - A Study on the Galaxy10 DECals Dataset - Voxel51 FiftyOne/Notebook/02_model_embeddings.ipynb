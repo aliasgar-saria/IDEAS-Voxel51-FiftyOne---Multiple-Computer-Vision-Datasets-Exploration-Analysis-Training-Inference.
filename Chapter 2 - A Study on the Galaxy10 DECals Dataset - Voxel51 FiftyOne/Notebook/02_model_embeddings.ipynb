{
 "cells": [
  {
   "cell_type": "markdown",
   "metadata": {},
   "source": [
    "# Galaxy10 Pipeline - Model Embeddings Extraction\n",
    "\n",
    "This notebook extracts feature embeddings from 5 pre-trained models:\n",
    "- **ViT-S/16**: 384-dimensional embeddings (global attention patterns)\n",
    "- **EfficientNetV2-S**: 1,280-dimensional embeddings (balanced accuracy/speed)\n",
    "- **Galaxy Zoo CNN**: 2,048-dimensional embeddings (astronomical features)\n",
    "- **DeepGalaxnet**: 1,024-dimensional embeddings (morphology-specific)\n",
    "- **CLIP**: 512-dimensional embeddings (text-based search capability)\n",
    "\n",
    "**Features**:\n",
    "- Automatic caching (no re-computation)\n",
    "- GPU OOM recovery (auto batch size reduction)\n",
    "- CPU parallelization for data loading"
   ]
  },
  {
   "cell_type": "markdown",
   "metadata": {},
   "source": [
    "## 1. Setup and Imports"
   ]
  },
  {
   "cell_type": "code",
   "execution_count": 2,
   "metadata": {},
   "outputs": [
    {
     "name": "stdout",
     "output_type": "stream",
     "text": [
      "✓ Imports complete\n",
      "✓ Using 21 CPU cores for parallel processing\n",
      "✓ CUDA available: True\n",
      "✓ GPU: NVIDIA RTX 500 Ada Generation Laptop GPU\n",
      "✓ GPU Memory: 3.65 GB\n"
     ]
    }
   ],
   "source": [
    "import sys\n",
    "import os\n",
    "import time\n",
    "import h5py\n",
    "import numpy as np\n",
    "import torch\n",
    "\n",
    "# Add project root to path\n",
    "project_root = os.path.abspath('..')\n",
    "if project_root not in sys.path:\n",
    "    sys.path.insert(0, project_root)\n",
    "\n",
    "from src.config import DATASET_PATH, N_JOBS, EMBEDDINGS_DIR\n",
    "from src.models.extractor import EmbeddingExtractor\n",
    "\n",
    "print(f\"✓ Imports complete\")\n",
    "print(f\"✓ Using {N_JOBS} CPU cores for parallel processing\")\n",
    "print(f\"✓ CUDA available: {torch.cuda.is_available()}\")\n",
    "if torch.cuda.is_available():\n",
    "    print(f\"✓ GPU: {torch.cuda.get_device_name(0)}\")\n",
    "    print(f\"✓ GPU Memory: {torch.cuda.get_device_properties(0).total_memory / 1024**3:.2f} GB\")"
   ]
  },
  {
   "cell_type": "markdown",
   "metadata": {},
   "source": [
    "## 2. Load Dataset"
   ]
  },
  {
   "cell_type": "code",
   "execution_count": 3,
   "metadata": {},
   "outputs": [
    {
     "name": "stdout",
     "output_type": "stream",
     "text": [
      "Loading dataset from: /home/salix/Documents/Galaxy10_DECals.h5\n",
      "✓ Loaded 17,736 images\n",
      "✓ Image shape: (17736, 256, 256, 3)\n",
      "✓ Labels shape: (17736,)\n"
     ]
    }
   ],
   "source": [
    "print(f\"Loading dataset from: {DATASET_PATH}\")\n",
    "\n",
    "with h5py.File(DATASET_PATH, 'r') as f:\n",
    "    images = np.array(f['images'])\n",
    "    labels = np.array(f['ans'])\n",
    "\n",
    "print(f\"✓ Loaded {len(images):,} images\")\n",
    "print(f\"✓ Image shape: {images.shape}\")\n",
    "print(f\"✓ Labels shape: {labels.shape}\")"
   ]
  },
  {
   "cell_type": "markdown",
   "metadata": {},
   "source": [
    "## 3. Extract ViT-S/16 Embeddings (384-dim)"
   ]
  },
  {
   "cell_type": "code",
   "execution_count": 4,
   "metadata": {},
   "outputs": [
    {
     "name": "stdout",
     "output_type": "stream",
     "text": [
      "======================================================================\n",
      "Extracting ViT-S/16 Embeddings\n",
      "======================================================================\n",
      "Initializing vit_small_patch16_224 on cuda\n",
      "✓ Loaded vit_small_patch16_224 from TIMM\n",
      "✓ Loading cached embeddings from artifacts/embeddings/vit_embeddings.npy\n",
      "✓ Loaded embeddings shape: (17736, 384)\n",
      "\n",
      "✓ ViT-S/16 embeddings shape: (17736, 384)\n",
      "✓ Expected dimension: 384\n",
      "✓ Time elapsed: 1.04 seconds (0.02 minutes)\n",
      "✓ Cached at: artifacts/embeddings/vit_embeddings.npy\n"
     ]
    }
   ],
   "source": [
    "print(\"=\"*70)\n",
    "print(\"Extracting ViT-S/16 Embeddings\")\n",
    "print(\"=\"*70)\n",
    "\n",
    "vit_cache_path = os.path.join(EMBEDDINGS_DIR, 'vit_embeddings.npy')\n",
    "\n",
    "start_time = time.time()\n",
    "vit_extractor = EmbeddingExtractor(\n",
    "    model_name='vit_small_patch16_224',\n",
    "    device='cuda' if torch.cuda.is_available() else 'cpu',\n",
    "    batch_size=8\n",
    ")\n",
    "\n",
    "vit_embeddings = vit_extractor.extract_embeddings(images, cache_path=vit_cache_path)\n",
    "elapsed = time.time() - start_time\n",
    "\n",
    "print(f\"\\n✓ ViT-S/16 embeddings shape: {vit_embeddings.shape}\")\n",
    "print(f\"✓ Expected dimension: 384\")\n",
    "print(f\"✓ Time elapsed: {elapsed:.2f} seconds ({elapsed/60:.2f} minutes)\")\n",
    "print(f\"✓ Cached at: {vit_cache_path}\")"
   ]
  },
  {
   "cell_type": "markdown",
   "metadata": {},
   "source": [
    "## 4. Extract EfficientNetV2-S Embeddings (1,280-dim)"
   ]
  },
  {
   "cell_type": "code",
   "execution_count": 5,
   "metadata": {},
   "outputs": [
    {
     "name": "stdout",
     "output_type": "stream",
     "text": [
      "======================================================================\n",
      "Extracting EfficientNetV2-S Embeddings\n",
      "======================================================================\n",
      "Initializing tf_efficientnetv2_s on cuda\n",
      "✓ Loaded tf_efficientnetv2_s from TIMM\n",
      "✓ Loading cached embeddings from artifacts/embeddings/efficientnet_embeddings.npy\n",
      "✓ Loaded embeddings shape: (17736, 1280)\n",
      "\n",
      "✓ EfficientNetV2-S embeddings shape: (17736, 1280)\n",
      "✓ Expected dimension: 1280\n",
      "✓ Time elapsed: 0.63 seconds (0.01 minutes)\n",
      "✓ Cached at: artifacts/embeddings/efficientnet_embeddings.npy\n"
     ]
    }
   ],
   "source": [
    "print(\"=\"*70)\n",
    "print(\"Extracting EfficientNetV2-S Embeddings\")\n",
    "print(\"=\"*70)\n",
    "\n",
    "efficientnet_cache_path = os.path.join(EMBEDDINGS_DIR, 'efficientnet_embeddings.npy')\n",
    "\n",
    "start_time = time.time()\n",
    "efficientnet_extractor = EmbeddingExtractor(\n",
    "    model_name='tf_efficientnetv2_s',\n",
    "    device='cuda' if torch.cuda.is_available() else 'cpu',\n",
    "    batch_size=8\n",
    ")\n",
    "\n",
    "efficientnet_embeddings = efficientnet_extractor.extract_embeddings(images, cache_path=efficientnet_cache_path)\n",
    "elapsed = time.time() - start_time\n",
    "\n",
    "print(f\"\\n✓ EfficientNetV2-S embeddings shape: {efficientnet_embeddings.shape}\")\n",
    "print(f\"✓ Expected dimension: 1280\")\n",
    "print(f\"✓ Time elapsed: {elapsed:.2f} seconds ({elapsed/60:.2f} minutes)\")\n",
    "print(f\"✓ Cached at: {efficientnet_cache_path}\")"
   ]
  },
  {
   "cell_type": "markdown",
   "metadata": {},
   "source": [
    "## 5. Extract Galaxy Zoo CNN Embeddings (2,048-dim)"
   ]
  },
  {
   "cell_type": "markdown",
   "metadata": {},
   "source": [
    "print(\"=\"*70)\n",
    "print(\"Extracting Galaxy Zoo CNN Embeddings\")\n",
    "print(\"=\"*70)\n",
    "\n",
    "galaxyzoo_cache_path = os.path.join(EMBEDDINGS_DIR, 'galaxyzoo_embeddings.npy')\n",
    "\n",
    "start_time = time.time()\n",
    "galaxyzoo_extractor = EmbeddingExtractor(\n",
    "    model_name='galaxy_zoo_cnn',\n",
    "    device='cuda' if torch.cuda.is_available() else 'cpu',\n",
    "    batch_size=8\n",
    ")\n",
    "\n",
    "galaxyzoo_embeddings = galaxyzoo_extractor.extract_embeddings(images, cache_path=galaxyzoo_cache_path)\n",
    "elapsed = time.time() - start_time\n",
    "\n",
    "print(f\"\\n✓ Galaxy Zoo CNN embeddings shape: {galaxyzoo_embeddings.shape}\")\n",
    "print(f\"✓ Expected dimension: 2048\")\n",
    "print(f\"✓ Time elapsed: {elapsed:.2f} seconds ({elapsed/60:.2f} minutes)\")\n",
    "print(f\"✓ Cached at: {galaxyzoo_cache_path}\")"
   ]
  },
  {
   "cell_type": "markdown",
   "metadata": {},
   "source": [
    "## 6. Extract DeepGalaxnet Embeddings (1,024-dim)"
   ]
  },
  {
   "cell_type": "markdown",
   "metadata": {},
   "source": [
    "print(\"=\"*70)\n",
    "print(\"Extracting DeepGalaxnet Embeddings\")\n",
    "print(\"=\"*70)\n",
    "\n",
    "deepgalaxnet_cache_path = os.path.join(EMBEDDINGS_DIR, 'deepgalaxnet_embeddings.npy')\n",
    "\n",
    "start_time = time.time()\n",
    "deepgalaxnet_extractor = EmbeddingExtractor(\n",
    "    model_name='deepgalaxnet',\n",
    "    device='cuda' if torch.cuda.is_available() else 'cpu',\n",
    "    batch_size=8\n",
    ")\n",
    "\n",
    "deepgalaxnet_embeddings = deepgalaxnet_extractor.extract_embeddings(images, cache_path=deepgalaxnet_cache_path)\n",
    "elapsed = time.time() - start_time\n",
    "\n",
    "print(f\"\\n✓ DeepGalaxnet embeddings shape: {deepgalaxnet_embeddings.shape}\")\n",
    "print(f\"✓ Expected dimension: 1024\")\n",
    "print(f\"✓ Time elapsed: {elapsed:.2f} seconds ({elapsed/60:.2f} minutes)\")\n",
    "print(f\"✓ Cached at: {deepgalaxnet_cache_path}\")"
   ]
  },
  {
   "cell_type": "markdown",
   "metadata": {},
   "source": [
    "## 7. Extract CLIP Embeddings (512-dim)"
   ]
  },
  {
   "cell_type": "code",
   "execution_count": 6,
   "metadata": {},
   "outputs": [
    {
     "name": "stdout",
     "output_type": "stream",
     "text": [
      "======================================================================\n",
      "Extracting CLIP Embeddings\n",
      "======================================================================\n",
      "Initializing clip on cuda\n"
     ]
    },
    {
     "name": "stderr",
     "output_type": "stream",
     "text": [
      "100%|███████████████████████████████████████| 338M/338M [00:28<00:00, 12.6MiB/s]\n"
     ]
    },
    {
     "name": "stdout",
     "output_type": "stream",
     "text": [
      "✓ Loaded CLIP ViT-B/32\n",
      "Extracting embeddings for 17736 images...\n",
      "Initial batch size: 8\n",
      "Preprocessing images...\n"
     ]
    },
    {
     "name": "stderr",
     "output_type": "stream",
     "text": [
      "Extracting clip embeddings: 100%|██████████| 2217/2217 [00:21<00:00, 105.20it/s]\n"
     ]
    },
    {
     "name": "stdout",
     "output_type": "stream",
     "text": [
      "✓ Extraction successful with batch_size=8\n",
      "✓ Extracted embeddings shape: (17736, 512)\n",
      "✓ Saved embeddings to artifacts/embeddings/clip_embeddings.npy\n",
      "\n",
      "✓ CLIP embeddings shape: (17736, 512)\n",
      "✓ Expected dimension: 512\n",
      "✓ Time elapsed: 151.59 seconds (2.53 minutes)\n",
      "✓ Cached at: artifacts/embeddings/clip_embeddings.npy\n",
      "\n",
      "💡 CLIP embeddings enable text-based search: 'spiral galaxy with bright core'\n"
     ]
    }
   ],
   "source": [
    "print(\"=\"*70)\n",
    "print(\"Extracting CLIP Embeddings\")\n",
    "print(\"=\"*70)\n",
    "\n",
    "clip_cache_path = os.path.join(EMBEDDINGS_DIR, 'clip_embeddings.npy')\n",
    "\n",
    "start_time = time.time()\n",
    "clip_extractor = EmbeddingExtractor(\n",
    "    model_name='clip',\n",
    "    device='cuda' if torch.cuda.is_available() else 'cpu',\n",
    "    batch_size=8\n",
    ")\n",
    "\n",
    "clip_embeddings = clip_extractor.extract_embeddings(images, cache_path=clip_cache_path)\n",
    "elapsed = time.time() - start_time\n",
    "\n",
    "print(f\"\\n✓ CLIP embeddings shape: {clip_embeddings.shape}\")\n",
    "print(f\"✓ Expected dimension: 512\")\n",
    "print(f\"✓ Time elapsed: {elapsed:.2f} seconds ({elapsed/60:.2f} minutes)\")\n",
    "print(f\"✓ Cached at: {clip_cache_path}\")\n",
    "print(f\"\\n💡 CLIP embeddings enable text-based search: 'spiral galaxy with bright core'\")"
   ]
  },
  {
   "cell_type": "markdown",
   "metadata": {},
   "source": [
    "## 8. Verify Cached Loading"
   ]
  },
  {
   "cell_type": "code",
   "execution_count": 8,
   "metadata": {},
   "outputs": [
    {
     "name": "stdout",
     "output_type": "stream",
     "text": [
      "======================================================================\n",
      "Testing Cached Loading (Should be instant)\n",
      "======================================================================\n",
      "Initializing vit_small_patch16_224 on cuda\n",
      "✓ Loaded vit_small_patch16_224 from TIMM\n",
      "✓ Loading cached embeddings from artifacts/embeddings/vit_embeddings.npy\n",
      "✓ Loaded embeddings shape: (17736, 384)\n",
      "\n",
      "✓ Loaded from cache in 0.88 seconds\n",
      "✓ Shape matches: True\n",
      "✓ Values match: True\n",
      "\n",
      "💡 Caching works! Re-running this notebook will skip extraction.\n"
     ]
    }
   ],
   "source": [
    "print(\"=\"*70)\n",
    "print(\"Testing Cached Loading (Should be instant)\")\n",
    "print(\"=\"*70)\n",
    "\n",
    "# Test loading from cache\n",
    "start_time = time.time()\n",
    "test_extractor = EmbeddingExtractor(\n",
    "    model_name='vit_small_patch16_224',\n",
    "    device='cuda' if torch.cuda.is_available() else 'cpu',\n",
    "    batch_size=8\n",
    ")\n",
    "test_embeddings = test_extractor.extract_embeddings(images, cache_path=vit_cache_path)\n",
    "elapsed = time.time() - start_time\n",
    "\n",
    "print(f\"\\n✓ Loaded from cache in {elapsed:.2f} seconds\")\n",
    "print(f\"✓ Shape matches: {test_embeddings.shape == vit_embeddings.shape}\")\n",
    "print(f\"✓ Values match: {np.allclose(test_embeddings, vit_embeddings)}\")\n",
    "print(f\"\\n💡 Caching works! Re-running this notebook will skip extraction.\")"
   ]
  },
  {
   "cell_type": "markdown",
   "metadata": {},
   "source": [
    "## 9. Embedding Statistics"
   ]
  },
  {
   "cell_type": "code",
   "execution_count": 9,
   "metadata": {},
   "outputs": [
    {
     "data": {
      "image/png": "[encoded data removed]",
      "text/plain": [
       "<Figure size 1800x500 with 3 Axes>"
      ]
     },
     "metadata": {},
     "output_type": "display_data"
    },
    {
     "name": "stdout",
     "output_type": "stream",
     "text": [
      "✓ Saved embedding distributions to artifacts/visualizations/embedding_distributions.png\n"
     ]
    }
   ],
   "source": [
    "import matplotlib.pyplot as plt\n",
    "import seaborn as sns\n",
    "\n",
    "%matplotlib inline\n",
    "plt.style.use('seaborn-v0_8-darkgrid')\n",
    "\n",
    "fig, axes = plt.subplots(1, 3, figsize=(18, 5))\n",
    "\n",
    "embeddings_dict = {\n",
    "    'ViT-S/16\\n(384-dim)': vit_embeddings,\n",
    "    'EfficientNetV2-S\\n(1280-dim)': efficientnet_embeddings,\n",
    "    'CLIP\\n(512-dim)': clip_embeddings\n",
    "}\n",
    "\n",
    "for idx, (name, emb) in enumerate(embeddings_dict.items()):\n",
    "    ax = axes[idx]\n",
    "    \n",
    "    # Plot distribution of embedding values\n",
    "    ax.hist(emb.flatten(), bins=50, alpha=0.7, color=sns.color_palette('husl', 3)[idx])\n",
    "    ax.set_xlabel('Embedding Value', fontsize=12)\n",
    "    ax.set_ylabel('Frequency', fontsize=12)\n",
    "    ax.set_title(f'{name}\\nMean: {emb.mean():.3f}, Std: {emb.std():.3f}', \n",
    "                fontsize=12, fontweight='bold')\n",
    "    ax.grid(alpha=0.3)\n",
    "\n",
    "plt.suptitle('Embedding Value Distributions', fontsize=16, fontweight='bold', y=1.02)\n",
    "plt.tight_layout()\n",
    "plt.savefig('../artifacts/visualizations/embedding_distributions.png', dpi=150, bbox_inches='tight')\n",
    "plt.show()\n",
    "\n",
    "print(\"✓ Saved embedding distributions to artifacts/visualizations/embedding_distributions.png\")"
   ]
  },
  {
   "cell_type": "markdown",
   "metadata": {},
   "source": [
    "## 10. Embedding Dimensionality Comparison"
   ]
  },
  {
   "cell_type": "code",
   "execution_count": 11,
   "metadata": {},
   "outputs": [
    {
     "name": "stdout",
     "output_type": "stream",
     "text": [
      "\n",
      "📊 Embedding Comparison:\n",
      "           Model  Dimension            Specialization    Mean    Std                  Cache File\n",
      "        ViT-S/16        384 Global attention patterns  0.0167 2.4776          vit_embeddings.npy\n",
      "EfficientNetV2-S       1280   Balanced accuracy/speed  0.0723 0.7507 efficientnet_embeddings.npy\n",
      "            CLIP        512         Text-based search -0.0278 0.4329         clip_embeddings.npy\n",
      "\n",
      "✓ Total concatenated dimension: 2176 (384 + 1280 + 2048 + 1024 + 512)\n"
     ]
    }
   ],
   "source": [
    "import pandas as pd\n",
    "\n",
    "# Create comparison table\n",
    "comparison_df = pd.DataFrame([\n",
    "    {\n",
    "        'Model': 'ViT-S/16',\n",
    "        'Dimension': vit_embeddings.shape[1],\n",
    "        'Specialization': 'Global attention patterns',\n",
    "        'Mean': f\"{vit_embeddings.mean():.4f}\",\n",
    "        'Std': f\"{vit_embeddings.std():.4f}\",\n",
    "        'Cache File': 'vit_embeddings.npy'\n",
    "    },\n",
    "    {\n",
    "        'Model': 'EfficientNetV2-S',\n",
    "        'Dimension': efficientnet_embeddings.shape[1],\n",
    "        'Specialization': 'Balanced accuracy/speed',\n",
    "        'Mean': f\"{efficientnet_embeddings.mean():.4f}\",\n",
    "        'Std': f\"{efficientnet_embeddings.std():.4f}\",\n",
    "        'Cache File': 'efficientnet_embeddings.npy'\n",
    "    },\n",
    "    {\n",
    "        'Model': 'CLIP',\n",
    "        'Dimension': clip_embeddings.shape[1],\n",
    "        'Specialization': 'Text-based search',\n",
    "        'Mean': f\"{clip_embeddings.mean():.4f}\",\n",
    "        'Std': f\"{clip_embeddings.std():.4f}\",\n",
    "        'Cache File': 'clip_embeddings.npy'\n",
    "    }\n",
    "])\n",
    "\n",
    "print(\"\\n📊 Embedding Comparison:\")\n",
    "print(comparison_df.to_string(index=False))\n",
    "\n",
    "# Calculate total embedding dimension\n",
    "total_dim = (vit_embeddings.shape[1] + efficientnet_embeddings.shape[1] +\n",
    "            clip_embeddings.shape[1])\n",
    "print(f\"\\n✓ Total concatenated dimension: {total_dim} (384 + 1280 + 2048 + 1024 + 512)\")"
   ]
  },
  {
   "cell_type": "markdown",
   "metadata": {},
   "source": [
    "## 11. Summary Report"
   ]
  },
  {
   "cell_type": "code",
   "execution_count": null,
   "metadata": {},
   "outputs": [
    {
     "name": "stdout",
     "output_type": "stream",
     "text": [
      "======================================================================\n",
      "📊 EMBEDDING EXTRACTION SUMMARY\n",
      "======================================================================\n",
      "\n",
      "✓ Extracted embeddings for 17,736 galaxy images\n",
      "\n",
      "📈 Model Embeddings:\n",
      "  • ViT-S/16: (17736, 384) - Global attention patterns\n",
      "  • EfficientNetV2-S: (17736, 1280) - Balanced accuracy/speed\n",
      "  • CLIP: (17736, 512) - Text-based search capability\n",
      "\n",
      "💾 Cached Embeddings:\n",
      "  • artifacts/embeddings/vit_embeddings.npy\n",
      "  • artifacts/embeddings/efficientnet_embeddings.npy\n",
      "  • artifacts/embeddings/clip_embeddings.npy\n",
      "\n",
      "🎯 Next Steps:\n",
      "  1. Run 03_ensemble_training.ipynb to train classifiers\n",
      "  2. Embeddings will be concatenated: 2176-dimensional features\n",
      "  3. Train Logistic Regression, Random Forest, Gradient Boosting\n",
      "  4. Automatic best model selection via cross-validation\n",
      "\n",
      "======================================================================\n",
      "✅ Embedding extraction complete! Ready for ensemble training.\n",
      "======================================================================\n"
     ]
    }
   ],
   "source": [
    "print(\"=\"*70)\n",
    "print(\"📊 EMBEDDING EXTRACTION SUMMARY\")\n",
    "print(\"=\"*70)\n",
    "\n",
    "print(f\"\\n✓ Extracted embeddings for {len(images):,} galaxy images\")\n",
    "\n",
    "print(f\"\\n📈 Model Embeddings:\")\n",
    "print(f\"  • ViT-S/16: {vit_embeddings.shape} - Global attention patterns\")\n",
    "print(f\"  • EfficientNetV2-S: {efficientnet_embeddings.shape} - Balanced accuracy/speed\")\n",
    "#print(f\"  • Galaxy Zoo CNN: {galaxyzoo_embeddings.shape} - Astronomical features\")\n",
    "#print(f\"  • DeepGalaxnet: {deepgalaxnet_embeddings.shape} - Morphology-specific\")\n",
    "print(f\"  • CLIP: {clip_embeddings.shape} - Text-based search capability\")\n",
    "\n",
    "print(f\"\\n Cached Embeddings:\")\n",
    "print(f\"  • {vit_cache_path}\")\n",
    "print(f\"  • {efficientnet_cache_path}\")\n",
    "#print(f\"  • {galaxyzoo_cache_path}\")\n",
    "#print(f\"  • {deepgalaxnet_cache_path}\")\n",
    "print(f\"  • {clip_cache_path}\")\n",
    "\n",
    "print(f\"\\n Next Steps:\")\n",
    "print(f\"  1. Run 03_ensemble_training.ipynb to train classifiers\")\n",
    "print(f\"  2. Embeddings will be concatenated: {total_dim}-dimensional features\")\n",
    "print(f\"  3. Train Logistic Regression, Random Forest, Gradient Boosting\")\n",
    "print(f\"  4. Automatic best model selection via cross-validation\")\n",
    "\n",
    "print(\"\\n\" + \"=\"*70)\n",
    "print(\" Embedding extraction complete! Ready for ensemble training.\")\n",
    "print(\"=\"*70)"
   ]
  },
  {
   "cell_type": "markdown",
   "metadata": {},
   "source": [
    "## 📚 References\n",
    "\n",
    "**Vision Transformer (ViT-S/16)**  \n",
    "Dosovitskiy, A., et al. (2021). *An Image is Worth 16×16 Words: Transformers for Image Recognition at Scale.* ICLR.  \n",
    "DOI: [10.48550/arXiv.2010.11929](https://doi.org/10.48550/arXiv.2010.11929)\n",
    "\n",
    "**EfficientNetV2-S**  \n",
    "Tan, M., & Le, Q. (2021). *EfficientNetV2: Smaller Models and Faster Training.* ICML.  \n",
    "DOI: [10.48550/arXiv.2104.00298](https://doi.org/10.48550/arXiv.2104.00298)\n",
    "\n",
    "**Galaxy Zoo CNN**  \n",
    "Dieleman, S., Willett, K. W., & Dambre, J. (2015). *Rotation-invariant convolutional neural networks for galaxy morphology prediction.* MNRAS, 450(2), 1441–1459.  \n",
    "DOI: [10.1093/mnras/stv632](https://doi.org/10.1093/mnras/stv632)\n",
    "\n",
    "**DeepGalaxNet**  \n",
    "Domínguez Sánchez, H., Huertas-Company, M., Bernardi, M., Tuccillo, D., & Fischer, J. L. (2018). *Improving galaxy morphologies for SDSS with Deep Learning.* MNRAS, 476(3), 3661–3676.  \n",
    "DOI: [10.1093/mnras/sty338](https://doi.org/10.1093/mnras/sty338)\n",
    "\n",
    "**CLIP (Contrastive Language–Image Pretraining)**  \n",
    "Radford, A., et al. (2021). *Learning Transferable Visual Models From Natural Language Supervision.* ICML.  \n",
    "DOI: [10.48550/arXiv.2103.00020](https://doi.org/10.48550/arXiv.2103.00020)\n",
    "\n",
    "\n"
   ]
  }
 ],
 "metadata": {
  "kernelspec": {
   "display_name": "galaxy10",
   "language": "python",
   "name": "python3"
  },
  "language_info": {
   "codemirror_mode": {
    "name": "ipython",
    "version": 3
   },
   "file_extension": ".py",
   "mimetype": "text/x-python",
   "name": "python",
   "nbconvert_exporter": "python",
   "pygments_lexer": "ipython3",
   "version": "3.11.14"
  }
 },
 "nbformat": 4,
 "nbformat_minor": 4
}
