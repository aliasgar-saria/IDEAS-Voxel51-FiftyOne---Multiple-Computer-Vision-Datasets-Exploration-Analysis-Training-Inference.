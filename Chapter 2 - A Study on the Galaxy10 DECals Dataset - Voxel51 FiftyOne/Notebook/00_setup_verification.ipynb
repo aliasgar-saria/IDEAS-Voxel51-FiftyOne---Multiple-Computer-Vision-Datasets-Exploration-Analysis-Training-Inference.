{
 "cells": [
  {
   "cell_type": "markdown",
   "metadata": {},
   "source": [
    "# A Multi-Representation Approach to Automated Galaxy Classification using CLIP, ViT, and FiftyOne: A Study on the Galaxy10 DECals Dataset\n",
    "\n",
    "\n",
    "1. Run `00_setup_verification.ipynb` to setup Verification\n",
    "2. Run `01_data_exploration.ipynb` to begin the Pipeline\n",
    "3. Run `02_model_embedding.ipynb` to  extract Features\n",
    "4. Run `03_ensumble_trianing.ipynb` to do Classification and Evaluation\n",
    "5. Run `04_visulization.ipynb` to integrate all into Voxel51 for Visulization and Analyis\n",
    "## Galaxy10 Pipeline - Setup Verification\n",
    "\n",
    "This notebook verifies that all dependencies are installed correctly and the environment is ready for the Galaxy10 pipeline.\n",
    "\n",
    "## Environment Setup Instructions\n",
    "\n",
    "### Method 1: Miniconda + Pip (Recommended - Fast)\n",
    "```bash\n",
    "# Create conda environment\n",
    "conda create -n galaxy10 python=3.11 -y\n",
    "conda activate galaxy10\n",
    "\n",
    "# Install PyTorch with CUDA 12.1\n",
    "pip install torch torchvision torchaudio --index-url https://download.pytorch.org/whl/cu121\n",
    "\n",
    "# Install all dependencies\n",
    "pip install -r requirements.txt\n",
    "\n",
    "# Launch Jupyter Lab\n",
    "jupyter lab\n",
    "```\n",
    "\n",
    "### Method 2: Pure Conda (Alternative - Slower)\n",
    "```bash\n",
    "# Create conda environment from yml\n",
    "conda env create -f environment.yml\n",
    "conda activate galaxy10\n",
    "jupyter lab\n",
    "```\n"
   ]
  },
  {
   "cell_type": "markdown",
   "metadata": {},
   "source": [
    "## 1. Import Core Libraries"
   ]
  },
  {
   "cell_type": "code",
   "execution_count": 5,
   "metadata": {},
   "outputs": [
    {
     "name": "stdout",
     "output_type": "stream",
     "text": [
      "Python version: 3.11.14 | packaged by conda-forge | (main, Oct 22 2025, 22:46:25) [GCC 14.3.0]\n",
      "Available CPU cores: 22\n",
      "Using 21 cores for parallel processing\n"
     ]
    }
   ],
   "source": [
    "import sys\n",
    "import os\n",
    "from multiprocessing import cpu_count\n",
    "\n",
    "print(f\"Python version: {sys.version}\")\n",
    "print(f\"Available CPU cores: {cpu_count()}\")\n",
    "print(f\"Using {cpu_count() - 1} cores for parallel processing\")"
   ]
  },
  {
   "cell_type": "markdown",
   "metadata": {},
   "source": [
    "## 2. Verify PyTorch and CUDA"
   ]
  },
  {
   "cell_type": "code",
   "execution_count": null,
   "metadata": {},
   "outputs": [
    {
     "name": "stdout",
     "output_type": "stream",
     "text": [
      "PyTorch version: 2.9.0+cu128\n",
      "Torchvision version: 0.24.0+cu128\n",
      "CUDA available: True\n",
      "CUDA version: 12.8\n",
      "GPU device: NVIDIA RTX 500 Ada Generation Laptop GPU\n",
      "GPU memory: 3.65 GB\n"
     ]
    }
   ],
   "source": [
    "import torch\n",
    "import torchvision\n",
    "\n",
    "print(f\"PyTorch version: {torch.__version__}\")\n",
    "print(f\"Torchvision version: {torchvision.__version__}\")\n",
    "print(f\"CUDA available: {torch.cuda.is_available()}\")\n",
    "\n",
    "if torch.cuda.is_available():\n",
    "    print(f\"CUDA version: {torch.version.cuda}\")\n",
    "    print(f\"GPU device: {torch.cuda.get_device_name(0)}\")\n",
    "    print(f\"GPU memory: {torch.cuda.get_device_properties(0).total_memory / 1024**3:.2f} GB\")\n",
    "else:\n",
    "    print(\"  CUDA not available - will use CPU only\")"
   ]
  },
  {
   "cell_type": "markdown",
   "metadata": {},
   "source": [
    "## 3. Verify ML Libraries"
   ]
  },
  {
   "cell_type": "code",
   "execution_count": 7,
   "metadata": {},
   "outputs": [
    {
     "name": "stdout",
     "output_type": "stream",
     "text": [
      "NumPy version: 2.2.6\n",
      "Pandas version: 2.3.3\n",
      "Scikit-learn version: 1.7.2\n",
      "TIMM version: 1.0.21\n",
      "UMAP version: 0.5.9.post2\n",
      "H5PY version: 3.15.1\n"
     ]
    }
   ],
   "source": [
    "import numpy as np\n",
    "import pandas as pd\n",
    "import sklearn\n",
    "import timm\n",
    "import umap\n",
    "import h5py\n",
    "\n",
    "print(f\"NumPy version: {np.__version__}\")\n",
    "print(f\"Pandas version: {pd.__version__}\")\n",
    "print(f\"Scikit-learn version: {sklearn.__version__}\")\n",
    "print(f\"TIMM version: {timm.__version__}\")\n",
    "print(f\"UMAP version: {umap.__version__}\")\n",
    "print(f\"H5PY version: {h5py.__version__}\")"
   ]
  },
  {
   "cell_type": "markdown",
   "metadata": {},
   "source": [
    "## 4. Verify FiftyOne"
   ]
  },
  {
   "cell_type": "code",
   "execution_count": 9,
   "metadata": {},
   "outputs": [
    {
     "name": "stdout",
     "output_type": "stream",
     "text": [
      "FiftyOne version: 1.9.0\n",
      "FiftyOne Brain available: True\n",
      "FiftyOne database: None\n"
     ]
    }
   ],
   "source": [
    "import fiftyone as fo\n",
    "import fiftyone.brain as fob\n",
    "\n",
    "print(f\"FiftyOne version: {fo.__version__}\")\n",
    "print(f\"FiftyOne Brain available: {fob is not None}\")\n",
    "#print(f\"FiftyOne config directory: {fo.config.config_dir}\")\n",
    "print(f\"FiftyOne database: {fo.config.database_uri}\")\n"
   ]
  },
  {
   "cell_type": "markdown",
   "metadata": {},
   "source": [
    "## 5. Verify CLIP"
   ]
  },
  {
   "cell_type": "code",
   "execution_count": null,
   "metadata": {},
   "outputs": [
    {
     "name": "stdout",
     "output_type": "stream",
     "text": [
      "CLIP available: True\n",
      "Available CLIP models: ['RN50', 'RN101', 'RN50x4', 'RN50x16', 'RN50x64', 'ViT-B/32', 'ViT-B/16', 'ViT-L/14', 'ViT-L/14@336px']\n"
     ]
    }
   ],
   "source": [
    "try:\n",
    "    import clip\n",
    "    print(f\"CLIP available: True\")\n",
    "    print(f\"Available CLIP models: {clip.available_models()}\")\n",
    "except ImportError as e:\n",
    "    print(f\" CLIP not available: {e}\")"
   ]
  },
  {
   "cell_type": "markdown",
   "metadata": {},
   "source": [
    "## 6. Verify Visualization Libraries"
   ]
  },
  {
   "cell_type": "code",
   "execution_count": 11,
   "metadata": {},
   "outputs": [
    {
     "name": "stdout",
     "output_type": "stream",
     "text": [
      "Matplotlib version: 3.10.7\n",
      "Seaborn version: 0.13.2\n"
     ]
    }
   ],
   "source": [
    "import matplotlib\n",
    "import matplotlib.pyplot as plt\n",
    "import seaborn as sns\n",
    "\n",
    "print(f\"Matplotlib version: {matplotlib.__version__}\")\n",
    "print(f\"Seaborn version: {sns.__version__}\")\n",
    "\n",
    "# Configure matplotlib for notebook\n",
    "%matplotlib inline\n",
    "plt.style.use('seaborn-v0_8-darkgrid')\n",
    "sns.set_palette('husl')"
   ]
  },
  {
   "cell_type": "markdown",
   "metadata": {},
   "source": [
    "## 7. Verify Project Structure"
   ]
  },
  {
   "cell_type": "code",
   "execution_count": 12,
   "metadata": {},
   "outputs": [
    {
     "name": "stdout",
     "output_type": "stream",
     "text": [
      "Checking project structure:\n",
      "✓ ../src\n",
      "✓ ../src/models\n",
      "✓ ../artifacts\n",
      "✓ ../artifacts/embeddings\n",
      "✓ ../artifacts/models\n",
      "✓ ../artifacts/visualizations\n",
      "Configuration loaded: Using 21 CPU cores for parallel processing\n",
      "\n",
      "Configuration loaded successfully!\n",
      "N_JOBS: 21\n",
      "Number of classes: 10\n",
      "Embedding models configured: ['vit', 'efficientnet', 'clip']\n"
     ]
    }
   ],
   "source": [
    "# Add project root to path\n",
    "project_root = os.path.abspath('..')\n",
    "if project_root not in sys.path:\n",
    "    sys.path.insert(0, project_root)\n",
    "\n",
    "# Verify directory structure\n",
    "required_dirs = [\n",
    "    '../src',\n",
    "    '../src/models',\n",
    "    '../artifacts',\n",
    "    '../artifacts/embeddings',\n",
    "    '../artifacts/models',\n",
    "    '../artifacts/visualizations'\n",
    "]\n",
    "\n",
    "print(\"Checking project structure:\")\n",
    "for dir_path in required_dirs:\n",
    "    exists = os.path.exists(dir_path)\n",
    "    status = \"✓\" if exists else \"✗\"\n",
    "    print(f\"{status} {dir_path}\")\n",
    "\n",
    "# Import project config\n",
    "from src.config import N_JOBS, CLASS_NAMES, EMBEDDING_MODELS\n",
    "\n",
    "print(f\"\\nConfiguration loaded successfully!\")\n",
    "print(f\"N_JOBS: {N_JOBS}\")\n",
    "print(f\"Number of classes: {len(CLASS_NAMES)}\")\n",
    "print(f\"Embedding models configured: {list(EMBEDDING_MODELS.keys())}\")"
   ]
  },
  {
   "cell_type": "markdown",
   "metadata": {},
   "source": [
    "## 8. Test CPU Parallelization"
   ]
  },
  {
   "cell_type": "code",
   "execution_count": 13,
   "metadata": {},
   "outputs": [
    {
     "name": "stdout",
     "output_type": "stream",
     "text": [
      "Testing Random Forest with n_jobs=21...\n",
      "✓ Training completed in 0.19 seconds\n",
      "✓ CPU parallelization working correctly!\n"
     ]
    }
   ],
   "source": [
    "from sklearn.ensemble import RandomForestClassifier\n",
    "from sklearn.datasets import make_classification\n",
    "import time\n",
    "\n",
    "# Generate dummy data\n",
    "X, y = make_classification(n_samples=1000, n_features=20, n_classes=10, \n",
    "                          n_informative=15, random_state=42)\n",
    "\n",
    "# Test with parallelization\n",
    "print(f\"Testing Random Forest with n_jobs={N_JOBS}...\")\n",
    "start = time.time()\n",
    "rf = RandomForestClassifier(n_estimators=100, n_jobs=N_JOBS, random_state=42)\n",
    "rf.fit(X, y)\n",
    "elapsed = time.time() - start\n",
    "\n",
    "print(f\"✓ Training completed in {elapsed:.2f} seconds\")\n",
    "print(f\"✓ CPU parallelization working correctly!\")"
   ]
  },
  {
   "cell_type": "markdown",
   "metadata": {},
   "source": [
    "## 9. Summary\n",
    "\n",
    "If all cells above executed successfully, your environment is ready for the Galaxy10 pipeline!\n",
    "\n",
    "### Next Steps:\n",
    "1. Download the Galaxy10 DECals dataset (Galaxy10_DECals.h5)\n",
    "2. Place it in the project root directory\n",
    "3. Run `01_data_exploration.ipynb` to begin the pipeline\n",
    "\n",
    "### Dataset Download:\n",
    "The Galaxy10 DECals dataset can be downloaded from:\n",
    "- Kaggle: https://www.kaggle.com/datasets/jaimetrickz/galaxy10-decals\n",
    "\n",
    "### **Dataset Reference — Galaxy10 DECals**  \n",
    "Walmsley, M., et al. (2020). *Galaxy Zoo DECaLS: Detailed visual morphology measurements from volunteers and deep learning for 314,000 galaxies.* MNRAS, 491(2), 1554–1574.  \n",
    "DOI: [10.1093/mnras/stz2816](https://doi.org/10.1093/mnras/stz2816)"
   ]
  },
  {
   "cell_type": "code",
   "execution_count": null,
   "metadata": {},
   "outputs": [
    {
     "name": "stdout",
     "output_type": "stream",
     "text": [
      "============================================================\n",
      "🎉 SETUP VERIFICATION COMPLETE!\n",
      "============================================================\n",
      "\n",
      "Your Galaxy10 pipeline environment is ready.\n",
      "\n",
      "System Configuration:\n",
      "  - Python: 3.11.14\n",
      "  - PyTorch: 2.9.0+cu128\n",
      "  - CUDA: True\n",
      "  - CPU Cores: 22 (using 21 for parallel processing)\n",
      "  - FiftyOne: 1.9.0\n",
      "\n",
      "Ready to process 17,736 galaxy images! 🌌\n"
     ]
    }
   ],
   "source": [
    "print(\"=\"*60)\n",
    "print(\" SETUP VERIFICATION COMPLETE!\")\n",
    "print(\"=\"*60)\n",
    "print(\"\\nYour Galaxy10 pipeline environment is ready.\")\n",
    "print(f\"\\nSystem Configuration:\")\n",
    "print(f\"  - Python: {sys.version.split()[0]}\")\n",
    "print(f\"  - PyTorch: {torch.__version__}\")\n",
    "print(f\"  - CUDA: {torch.cuda.is_available()}\")\n",
    "print(f\"  - CPU Cores: {cpu_count()} (using {N_JOBS} for parallel processing)\")\n",
    "print(f\"  - FiftyOne: {fo.__version__}\")\n",
    "print(\"\\nReady to process 17,736 galaxy images! \")"
   ]
  }
 ],
 "metadata": {
  "kernelspec": {
   "display_name": "galaxy10",
   "language": "python",
   "name": "python3"
  },
  "language_info": {
   "codemirror_mode": {
    "name": "ipython",
    "version": 3
   },
   "file_extension": ".py",
   "mimetype": "text/x-python",
   "name": "python",
   "nbconvert_exporter": "python",
   "pygments_lexer": "ipython3",
   "version": "3.11.14"
  }
 },
 "nbformat": 4,
 "nbformat_minor": 4
}
