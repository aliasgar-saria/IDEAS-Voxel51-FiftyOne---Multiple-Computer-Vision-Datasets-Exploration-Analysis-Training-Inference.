{
  "cells": [
    {
      "cell_type": "markdown",
      "metadata": {},
      "source": [
        "# IDRiD Segmentation Analysis with FiftyOne - Complete Notebook\n",
        "\n",
        "## 🎯 Complete Analysis Pipeline\n",
        "\n",
        "Individual cells for each step:\n",
        "- ✅ Dataset creation\n",
        "- ✅ Segmentation processing\n",
        "- ✅ Feature extraction\n",
        "- ✅ Machine Learning\n",
        "- ✅ Embeddings\n",
        "- ✅ **All FiftyOne Brain functions**\n",
        "- ✅ FiftyOne App\n",
        "\n",
        "Run cells in order from top to bottom.\n",
        "\n",
        "---"
      ]
    },
    {
      "cell_type": "markdown",
      "metadata": {},
      "source": [
        "## 📦 Section 1: Imports"
      ]
    },
    {
      "cell_type": "code",
      "execution_count": 18,
      "metadata": {},
      "outputs": [
        {
          "name": "stdout",
          "output_type": "stream",
          "text": [
            "================================================================================\n",
            "IDRiD SEGMENTATION ANALYSIS WITH FIFTYONE\n",
            "================================================================================\n",
            "FiftyOne: 1.9.0\n",
            "Date: 2025-10-27 18:50:48\n",
            "================================================================================\n",
            "\n",
            "✅ All libraries imported!\n",
            "\n"
          ]
        }
      ],
      "source": [
        "# Core libraries\n",
        "import fiftyone as fo\n",
        "import fiftyone.brain as fob\n",
        "import fiftyone.zoo as foz\n",
        "import numpy as np\n",
        "import pandas as pd\n",
        "import matplotlib.pyplot as plt\n",
        "import seaborn as sns\n",
        "from PIL import Image\n",
        "import cv2\n",
        "from pathlib import Path\n",
        "from tqdm import tqdm\n",
        "import warnings\n",
        "from datetime import datetime\n",
        "\n",
        "# Machine Learning\n",
        "from sklearn.ensemble import RandomForestClassifier\n",
        "from sklearn.model_selection import train_test_split\n",
        "from sklearn.metrics import classification_report, accuracy_score, f1_score, ConfusionMatrixDisplay\n",
        "from sklearn.preprocessing import StandardScaler\n",
        "\n",
        "# Configuration\n",
        "warnings.filterwarnings('ignore')\n",
        "sns.set_style('whitegrid')\n",
        "plt.rcParams['figure.figsize'] = (14, 6)\n",
        "\n",
        "print(\"=\"*80)\n",
        "print(\"IDRiD SEGMENTATION ANALYSIS WITH FIFTYONE\")\n",
        "print(\"=\"*80)\n",
        "print(f\"FiftyOne: {fo.__version__}\")\n",
        "print(f\"Date: {datetime.now().strftime('%Y-%m-%d %H:%M:%S')}\")\n",
        "print(\"=\"*80)\n",
        "print(\"\\n✅ All libraries imported!\\n\")"
      ]
    },
    {
      "cell_type": "markdown",
      "metadata": {},
      "source": [
        "## ⚙️ Section 2: Configuration"
      ]
    },
    {
      "cell_type": "code",
      "execution_count": 19,
      "metadata": {},
      "outputs": [
        {
          "name": "stdout",
          "output_type": "stream",
          "text": [
            "✅ Configuration loaded\n",
            "   Dataset: idrid_segmentation\n",
            "   Lesion types: 5\n",
            "   Base path: /Users/asaria/Documents/IDEAS/Eye/Indian Eye diabetes/Update/A. Segmentation\n"
          ]
        }
      ],
      "source": [
        "# Dataset paths\n",
        "BASE_PATH = Path(\"A. Segmentation\")\n",
        "IMAGES_PATH = BASE_PATH / \"1. Original Images\"\n",
        "MASKS_PATH = BASE_PATH / \"2. All Segmentation Groundtruths\"\n",
        "\n",
        "TRAIN_IMAGES_PATH = IMAGES_PATH / \"a. Training Set\"\n",
        "TEST_IMAGES_PATH = IMAGES_PATH / \"b. Testing Set\"\n",
        "TRAIN_MASKS_PATH = MASKS_PATH / \"a. Training Set\"\n",
        "TEST_MASKS_PATH = MASKS_PATH / \"b. Testing Set\"\n",
        "\n",
        "# Lesion types\n",
        "LESION_TYPES = {\n",
        "    'microaneurysms': '1. Microaneurysms',\n",
        "    'haemorrhages': '2. Haemorrhages',\n",
        "    'hard_exudates': '3. Hard Exudates',\n",
        "    'soft_exudates': '4. Soft Exudates',\n",
        "    'optic_disc': '5. Optic Disc'\n",
        "}\n",
        "\n",
        "# Dataset name\n",
        "DATASET_NAME = \"idrid_segmentation\"\n",
        "\n",
        "print(f\"✅ Configuration loaded\")\n",
        "print(f\"   Dataset: {DATASET_NAME}\")\n",
        "print(f\"   Lesion types: {len(LESION_TYPES)}\")\n",
        "print(f\"   Base path: {BASE_PATH.absolute()}\")"
      ]
    },
    {
      "cell_type": "markdown",
      "metadata": {},
      "source": [
        "## 🛠️ Section 4: Helper Functions"
      ]
    },
    {
      "cell_type": "markdown",
      "metadata": {},
      "source": [
        "## 🗑️ Section 3: Cleanup (Delete Old Dataset)"
      ]
    },
    {
      "cell_type": "code",
      "execution_count": 20,
      "metadata": {},
      "outputs": [
        {
          "name": "stdout",
          "output_type": "stream",
          "text": [
            "================================================================================\n",
            "CLEANUP - REMOVING OLD DATASET\n",
            "================================================================================\n",
            "\n",
            "🗑️  Found existing dataset 'idrid_segmentation'\n",
            "   Deleting to ensure clean schema...\n",
            "✅ Deleted 'idrid_segmentation'\n",
            "   This ensures:\n",
            "      • No schema conflicts\n",
            "      • Fresh embeddings\n",
            "      • Clean brain runs\n",
            "      • Proper field types\n",
            "\n",
            "================================================================================\n",
            "\n"
          ]
        }
      ],
      "source": [
        "# ============================================================================\n",
        "# CLEANUP: Delete Previous Dataset and Start Fresh\n",
        "# ============================================================================\n",
        "\n",
        "print(\"=\"*80)\n",
        "print(\"CLEANUP - REMOVING OLD DATASET\")\n",
        "print(\"=\"*80 + \"\\n\")\n",
        "\n",
        "# Check if dataset exists\n",
        "if DATASET_NAME in fo.list_datasets():\n",
        "    print(f\"🗑️  Found existing dataset '{DATASET_NAME}'\")\n",
        "    print(\"   Deleting to ensure clean schema...\")\n",
        "    \n",
        "    # Delete the dataset\n",
        "    fo.delete_dataset(DATASET_NAME)\n",
        "    print(f\"✅ Deleted '{DATASET_NAME}'\")\n",
        "    print(\"   This ensures:\")\n",
        "    print(\"      • No schema conflicts\")\n",
        "    print(\"      • Fresh embeddings\")\n",
        "    print(\"      • Clean brain runs\")\n",
        "    print(\"      • Proper field types\")\n",
        "else:\n",
        "    print(f\"✅ No existing dataset found\")\n",
        "    print(f\"   Will create fresh dataset: '{DATASET_NAME}'\")\n",
        "\n",
        "print(\"\\n\" + \"=\"*80 + \"\\n\")"
      ]
    },
    {
      "cell_type": "code",
      "execution_count": 21,
      "metadata": {},
      "outputs": [
        {
          "name": "stdout",
          "output_type": "stream",
          "text": [
            "✅ Helper functions defined\n"
          ]
        }
      ],
      "source": [
        "def load_mask(mask_path):\n",
        "    \"\"\"Load a TIF mask file and convert to binary array.\"\"\"\n",
        "    if not Path(mask_path).exists():\n",
        "        return None\n",
        "    try:\n",
        "        mask = Image.open(mask_path)\n",
        "        mask_array = np.array(mask)\n",
        "        return (mask_array > 0).astype(np.uint8) * 255 if mask_array.max() > 1 else (mask_array * 255).astype(np.uint8)\n",
        "    except:\n",
        "        return None\n",
        "\n",
        "def process_all_masks(image_id, masks_base_path, lesion_types):\n",
        "    \"\"\"Load all 5 lesion type masks for a given image.\"\"\"\n",
        "    suffixes = {\n",
        "        'microaneurysms': '_MA.tif',\n",
        "        'haemorrhages': '_HE.tif',\n",
        "        'hard_exudates': '_EX.tif',\n",
        "        'soft_exudates': '_SE.tif',\n",
        "        'optic_disc': '_OD.tif'\n",
        "    }\n",
        "    return {k: load_mask(Path(masks_base_path) / v / f\"{image_id}{suffixes[k]}\") \n",
        "            for k, v in lesion_types.items()}\n",
        "\n",
        "def get_mask_statistics(masks_dict):\n",
        "    \"\"\"Calculate area metrics for all lesion types.\"\"\"\n",
        "    stats = {}\n",
        "    for lesion_type, mask_array in masks_dict.items():\n",
        "        if mask_array is not None:\n",
        "            lesion_pixels = np.count_nonzero(mask_array)\n",
        "            percentage = (lesion_pixels / mask_array.size) * 100 if mask_array.size > 0 else 0.0\n",
        "            stats[lesion_type] = {\n",
        "                'pixel_count': lesion_pixels,\n",
        "                'percentage': percentage,\n",
        "                'has_lesion': lesion_pixels > 0\n",
        "            }\n",
        "        else:\n",
        "            stats[lesion_type] = {'pixel_count': 0, 'percentage': 0.0, 'has_lesion': False}\n",
        "    return stats\n",
        "\n",
        "def create_fiftyone_sample(image_path, masks_dict, split, image_id):\n",
        "    \"\"\"Create a FiftyOne sample with segmentation labels.\"\"\"\n",
        "    sample = fo.Sample(filepath=str(image_path))\n",
        "    sample['split'] = split\n",
        "    sample['image_id'] = image_id\n",
        "    stats = get_mask_statistics(masks_dict)\n",
        "    lesion_types_present = []\n",
        "    total_lesion_area = 0.0\n",
        "    \n",
        "    for lesion_type, mask_array in masks_dict.items():\n",
        "        if mask_array is not None and stats[lesion_type]['has_lesion']:\n",
        "            sample[lesion_type] = fo.Segmentation(mask=mask_array)\n",
        "            if lesion_type != 'optic_disc':\n",
        "                lesion_types_present.append(lesion_type)\n",
        "                total_lesion_area += stats[lesion_type]['percentage']\n",
        "        sample[f\"{lesion_type}_area\"] = stats[lesion_type]['percentage']\n",
        "    \n",
        "    sample['has_lesions'] = len(lesion_types_present) > 0\n",
        "    sample['lesion_types_present'] = lesion_types_present\n",
        "    sample['lesion_count'] = len(lesion_types_present)\n",
        "    sample['total_lesion_area'] = total_lesion_area\n",
        "    return sample\n",
        "\n",
        "def load_segmentation_dataset(images_path, masks_path, split, lesion_types):\n",
        "    \"\"\"Load all images and masks for a given split.\"\"\"\n",
        "    image_files = sorted(list(Path(images_path).glob(\"*.jpg\")))\n",
        "    samples = []\n",
        "    print(f\"Loading {split} set: {len(image_files)} images\")\n",
        "    for img_file in tqdm(image_files, desc=f\"Processing {split}\"):\n",
        "        try:\n",
        "            masks_dict = process_all_masks(img_file.stem, masks_path, lesion_types)\n",
        "            samples.append(create_fiftyone_sample(img_file, masks_dict, split, img_file.stem))\n",
        "        except Exception as e:\n",
        "            print(f\"Error {img_file.stem}: {e}\")\n",
        "    print(f\"✓ Loaded {len(samples)} samples\\n\")\n",
        "    return samples\n",
        "\n",
        "print(\"✅ Helper functions defined\")"
      ]
    },
    {
      "cell_type": "markdown",
      "metadata": {},
      "source": [
        "## 📦 Section 5: Dataset Creation/Loading"
      ]
    },
    {
      "cell_type": "code",
      "execution_count": 22,
      "metadata": {},
      "outputs": [
        {
          "name": "stdout",
          "output_type": "stream",
          "text": [
            "================================================================================\n",
            "DATASET CREATION\n",
            "================================================================================\n",
            "\n",
            "🆕 Creating fresh dataset: 'idrid_segmentation'...\n",
            "Loading train set: 54 images\n"
          ]
        },
        {
          "name": "stderr",
          "output_type": "stream",
          "text": [
            "Processing train: 100%|██████████| 54/54 [00:04<00:00, 13.07it/s]\n"
          ]
        },
        {
          "name": "stdout",
          "output_type": "stream",
          "text": [
            "✓ Loaded 54 samples\n",
            "\n",
            "Loading test set: 27 images\n"
          ]
        },
        {
          "name": "stderr",
          "output_type": "stream",
          "text": [
            "Processing test: 100%|██████████| 27/27 [00:02<00:00, 12.48it/s]\n"
          ]
        },
        {
          "name": "stdout",
          "output_type": "stream",
          "text": [
            "✓ Loaded 27 samples\n",
            "\n",
            " 100% |███████████████████| 81/81 [27.9s elapsed, 0s remaining, 2.8 samples/s]      \n",
            "✅ Dataset created: 81 samples\n",
            "   Training: 54\n",
            "   Testing: 27\n",
            "\n",
            "================================================================================\n",
            "\n"
          ]
        }
      ],
      "source": [
        "print(\"=\"*80)\n",
        "print(\"DATASET CREATION\")\n",
        "print(\"=\"*80 + \"\\n\")\n",
        "\n",
        "# Always create fresh dataset (old one was deleted in cleanup cell)\n",
        "print(f\"🆕 Creating fresh dataset: '{DATASET_NAME}'...\")\n",
        "\n",
        "# Load training samples\n",
        "train_samples = load_segmentation_dataset(TRAIN_IMAGES_PATH, TRAIN_MASKS_PATH, 'train', LESION_TYPES)\n",
        "\n",
        "# Load testing samples\n",
        "test_samples = load_segmentation_dataset(TEST_IMAGES_PATH, TEST_MASKS_PATH, 'test', LESION_TYPES)\n",
        "\n",
        "# Create dataset\n",
        "dataset = fo.Dataset(DATASET_NAME)\n",
        "dataset.persistent = True\n",
        "dataset.add_samples(train_samples + test_samples)\n",
        "\n",
        "print(f\"✅ Dataset created: {len(dataset)} samples\")\n",
        "print(f\"   Training: {len(dataset.match(fo.ViewField('split') == 'train'))}\")\n",
        "print(f\"   Testing: {len(dataset.match(fo.ViewField('split') == 'test'))}\")\n",
        "print(\"\\n\" + \"=\"*80 + \"\\n\")"
      ]
    },
    {
      "cell_type": "markdown",
      "metadata": {},
      "source": [
        "## 🧠 Section 6: Embeddings Computation"
      ]
    },
    {
      "cell_type": "code",
      "execution_count": 23,
      "metadata": {},
      "outputs": [
        {
          "name": "stdout",
          "output_type": "stream",
          "text": [
            "================================================================================\n",
            "EMBEDDINGS COMPUTATION\n",
            "================================================================================\n",
            "\n",
            "🧠 Computing embeddings...\n",
            "   This may take 2-5 minutes...\n",
            "   Trying CLIP model...\n",
            "You are running the oldest supported major version of MongoDB. Please refer to https://deprecation.voxel51.com for deprecation notices. You can suppress this exception by setting your `database_validation` config parameter to `False`. See https://docs.voxel51.com/user_guide/config.html#configuring-a-mongodb-connection for more information\n",
            "You are running the oldest supported major version of MongoDB. Please refer to https://deprecation.voxel51.com for deprecation notices. You can suppress this exception by setting your `database_validation` config parameter to `False`. See https://docs.voxel51.com/user_guide/config.html#configuring-a-mongodb-connection for more information\n",
            "You are running the oldest supported major version of MongoDB. Please refer to https://deprecation.voxel51.com for deprecation notices. You can suppress this exception by setting your `database_validation` config parameter to `False`. See https://docs.voxel51.com/user_guide/config.html#configuring-a-mongodb-connection for more information\n",
            "You are running the oldest supported major version of MongoDB. Please refer to https://deprecation.voxel51.com for deprecation notices. You can suppress this exception by setting your `database_validation` config parameter to `False`. See https://docs.voxel51.com/user_guide/config.html#configuring-a-mongodb-connection for more information\n",
            " 100% |███████████████████| 81/81 [1.0m elapsed, 0s remaining, 1.6 samples/s]       \n",
            "✅ CLIP embeddings computed!\n",
            "   Embedding dimension: 512\n",
            "   Total samples: 81\n",
            "\n",
            "🎯 EMBEDDINGS_AVAILABLE = True\n",
            "================================================================================\n"
          ]
        }
      ],
      "source": [
        "print(\"=\"*80)\n",
        "print(\"EMBEDDINGS COMPUTATION\")\n",
        "print(\"=\"*80 + \"\\n\")\n",
        "\n",
        "# Check if embeddings exist\n",
        "EMBEDDINGS_AVAILABLE = \"embeddings\" in dataset.get_field_schema()\n",
        "\n",
        "if EMBEDDINGS_AVAILABLE:\n",
        "    sample = dataset.first()\n",
        "    if sample.embeddings is None:\n",
        "        EMBEDDINGS_AVAILABLE = False\n",
        "        print(\"⚠️  Embeddings field exists but is empty\")\n",
        "\n",
        "if not EMBEDDINGS_AVAILABLE:\n",
        "    print(\"🧠 Computing embeddings...\")\n",
        "    print(\"   This may take 2-5 minutes...\")\n",
        "    try:\n",
        "        print(\"   Trying CLIP model...\")\n",
        "        model = foz.load_zoo_model(\"clip-vit-base32-torch\")\n",
        "        dataset.compute_embeddings(model, embeddings_field=\"embeddings\", batch_size=4)\n",
        "        print(\"✅ CLIP embeddings computed!\")\n",
        "        EMBEDDINGS_AVAILABLE = True\n",
        "    except Exception as e:\n",
        "        print(f\"⚠️  CLIP failed: {str(e)[:100]}\")\n",
        "        print(\"   Trying ResNet50 as fallback...\")\n",
        "        try:\n",
        "            model = foz.load_zoo_model(\"resnet50-imagenet-torch\")\n",
        "            dataset.compute_embeddings(model, embeddings_field=\"embeddings\", batch_size=4)\n",
        "            print(\"✅ ResNet50 embeddings computed!\")\n",
        "            EMBEDDINGS_AVAILABLE = True\n",
        "        except Exception as e2:\n",
        "            print(f\"❌ Embeddings failed: {str(e2)[:100]}\")\n",
        "            print(\"   Please check your PyTorch installation\")\n",
        "            EMBEDDINGS_AVAILABLE = False\n",
        "else:\n",
        "    print(\"✅ Embeddings already exist\")\n",
        "\n",
        "# Verify embeddings\n",
        "if EMBEDDINGS_AVAILABLE:\n",
        "    sample = dataset.first()\n",
        "    if sample.embeddings is not None:\n",
        "        print(f\"   Embedding dimension: {len(sample.embeddings)}\")\n",
        "        print(f\"   Total samples: {len(dataset)}\")\n",
        "    else:\n",
        "        print(\"⚠️  Embeddings verification failed\")\n",
        "        EMBEDDINGS_AVAILABLE = False\n",
        "\n",
        "print(f\"\\n🎯 EMBEDDINGS_AVAILABLE = {EMBEDDINGS_AVAILABLE}\")\n",
        "print(\"=\"*80)"
      ]
    },
    {
      "cell_type": "markdown",
      "metadata": {},
      "source": [
        "## 📊 Section 7: Feature Extraction"
      ]
    },
    {
      "cell_type": "code",
      "execution_count": 24,
      "metadata": {},
      "outputs": [
        {
          "name": "stdout",
          "output_type": "stream",
          "text": [
            "================================================================================\n",
            "FEATURE EXTRACTION\n",
            "================================================================================\n",
            "\n"
          ]
        },
        {
          "name": "stderr",
          "output_type": "stream",
          "text": [
            "Extracting features: 100%|██████████| 81/81 [00:09<00:00,  8.17it/s]\n"
          ]
        },
        {
          "name": "stdout",
          "output_type": "stream",
          "text": [
            "✅ Extracted 81 samples with 21 features\n",
            "\n",
            "📊 Severity Distribution:\n",
            "   Healthy: 0 samples\n",
            "   Mild: 26 samples\n",
            "   Moderate: 33 samples\n",
            "   Severe: 22 samples\n",
            "\n"
          ]
        }
      ],
      "source": [
        "print(\"=\"*80)\n",
        "print(\"FEATURE EXTRACTION\")\n",
        "print(\"=\"*80 + \"\\n\")\n",
        "\n",
        "features_list = []\n",
        "for sample in tqdm(dataset, desc=\"Extracting features\"):\n",
        "    total = sample.total_lesion_area\n",
        "    features = {\n",
        "        'image_id': sample.image_id,\n",
        "        'split': sample.split,\n",
        "        'microaneurysms_area': sample.microaneurysms_area,\n",
        "        'haemorrhages_area': sample.haemorrhages_area,\n",
        "        'hard_exudates_area': sample.hard_exudates_area,\n",
        "        'soft_exudates_area': sample.soft_exudates_area,\n",
        "        'optic_disc_area': sample.optic_disc_area,\n",
        "        'total_lesion_area': total,\n",
        "        'lesion_count': sample.lesion_count,\n",
        "        'has_microaneurysms': 1 if sample.microaneurysms_area > 0 else 0,\n",
        "        'has_haemorrhages': 1 if sample.haemorrhages_area > 0 else 0,\n",
        "        'has_hard_exudates': 1 if sample.hard_exudates_area > 0 else 0,\n",
        "        'has_soft_exudates': 1 if sample.soft_exudates_area > 0 else 0,\n",
        "        'lesion_diversity': sample.lesion_count / 4.0,\n",
        "        'area_per_lesion': total / max(sample.lesion_count, 1),\n",
        "        'ma_ratio': sample.microaneurysms_area / total if total > 0 else 0,\n",
        "        'he_ratio': sample.haemorrhages_area / total if total > 0 else 0,\n",
        "        'hex_ratio': sample.hard_exudates_area / total if total > 0 else 0,\n",
        "        'sex_ratio': sample.soft_exudates_area / total if total > 0 else 0,\n",
        "        'severity_score': (sample.microaneurysms_area * 0.2 + sample.haemorrhages_area * 0.3 + \n",
        "                          sample.hard_exudates_area * 0.3 + sample.soft_exudates_area * 0.2)\n",
        "    }\n",
        "    features_list.append(features)\n",
        "\n",
        "features_df = pd.DataFrame(features_list)\n",
        "\n",
        "# Create severity labels based on total_lesion_area (NOT from predictions)\n",
        "def create_severity_label(row):\n",
        "    \"\"\"Create severity classification based on lesion area.\"\"\"\n",
        "    if row['total_lesion_area'] == 0:\n",
        "        return 0  # Healthy\n",
        "    elif row['total_lesion_area'] < 1.0:\n",
        "        return 1  # Mild\n",
        "    elif row['total_lesion_area'] < 3.0:\n",
        "        return 2  # Moderate\n",
        "    else:\n",
        "        return 3  # Severe\n",
        "\n",
        "# Apply severity labels\n",
        "features_df['severity'] = features_df.apply(create_severity_label, axis=1)\n",
        "\n",
        "# Define severity label names\n",
        "severity_labels = ['Healthy', 'Mild', 'Moderate', 'Severe']\n",
        "\n",
        "print(f\"✅ Extracted {len(features_df)} samples with {len(features_df.columns)} features\")\n",
        "print(\"\\n📊 Severity Distribution:\")\n",
        "for i, label in enumerate(severity_labels):\n",
        "    count = len(features_df[features_df['severity'] == i])\n",
        "    print(f\"   {label}: {count} samples\")\n",
        "print()"
      ]
    },
    {
      "cell_type": "markdown",
      "metadata": {},
      "source": [
        "## 🤖 Section 8: Machine Learning"
      ]
    },
    {
      "cell_type": "code",
      "execution_count": 25,
      "metadata": {},
      "outputs": [
        {
          "name": "stdout",
          "output_type": "stream",
          "text": [
            "================================================================================\n",
            "MACHINE LEARNING - RANDOM FOREST\n",
            "================================================================================\n",
            "\n",
            "🤖 Training Random Forest...\n",
            "✅ Model trained!\n",
            "   Accuracy: 0.9600\n",
            "   F1 Score: 0.9603\n"
          ]
        }
      ],
      "source": [
        "print(\"=\"*80)\n",
        "print(\"MACHINE LEARNING - RANDOM FOREST\")\n",
        "print(\"=\"*80 + \"\\n\")\n",
        "\n",
        "# Prepare data\n",
        "feature_cols = [col for col in features_df.columns if col not in ['image_id', 'split', 'severity']]\n",
        "X = features_df[feature_cols]\n",
        "y = features_df['severity']\n",
        "\n",
        "# Split data\n",
        "X_train, X_test, y_train, y_test = train_test_split(X, y, test_size=0.3, random_state=42, stratify=y)\n",
        "\n",
        "# Scale features\n",
        "scaler = StandardScaler()\n",
        "X_train_scaled = scaler.fit_transform(X_train)\n",
        "X_test_scaled = scaler.transform(X_test)\n",
        "\n",
        "# Train model\n",
        "print(\"🤖 Training Random Forest...\")\n",
        "rf_model = RandomForestClassifier(n_estimators=100, random_state=42, max_depth=10)\n",
        "rf_model.fit(X_train_scaled, y_train)\n",
        "\n",
        "# Evaluate\n",
        "y_pred = rf_model.predict(X_test_scaled)\n",
        "accuracy = accuracy_score(y_test, y_pred)\n",
        "f1 = f1_score(y_test, y_pred, average='weighted')\n",
        "\n",
        "print(f\"✅ Model trained!\")\n",
        "print(f\"   Accuracy: {accuracy:.4f}\")\n",
        "print(f\"   F1 Score: {f1:.4f}\")"
      ]
    },
    {
      "cell_type": "markdown",
      "metadata": {},
      "source": [
        "## 📝 Section 9: Add Predictions to Dataset"
      ]
    },
    {
      "cell_type": "code",
      "execution_count": 26,
      "metadata": {},
      "outputs": [
        {
          "name": "stdout",
          "output_type": "stream",
          "text": [
            "📝 Adding predictions to dataset...\n",
            "   This will add 4 fields with proper types\n",
            "\n",
            "✅ Predictions added to dataset\n",
            "   Fields added:\n",
            "      • severity_numeric (int) - for filtering\n",
            "      • prediction_confidence (float) - confidence score\n",
            "      • severity_label (string) - human readable\n",
            "      • predicted_severity (Classification) - for brain functions\n",
            "\n"
          ]
        }
      ],
      "source": [
        "print(\"📝 Adding predictions to dataset...\")\n",
        "print(\"   This will add 4 fields with proper types\\n\")\n",
        "\n",
        "# Get predictions for all samples\n",
        "X_all_scaled = scaler.transform(X)\n",
        "predictions = rf_model.predict(X_all_scaled)\n",
        "pred_proba = rf_model.predict_proba(X_all_scaled)\n",
        "\n",
        "# Add predictions to dataset with proper field types\n",
        "for i, sample in enumerate(dataset):\n",
        "    # Store numeric version first (int)\n",
        "    sample[\"severity_numeric\"] = int(predictions[i])\n",
        "    \n",
        "    # Store confidence (float)\n",
        "    sample[\"prediction_confidence\"] = float(pred_proba[i].max())\n",
        "    \n",
        "    # Store label string\n",
        "    sample[\"severity_label\"] = severity_labels[predictions[i]]\n",
        "    \n",
        "    # Store as Classification object LAST (for brain functions)\n",
        "    sample[\"predicted_severity\"] = fo.Classification(\n",
        "        label=severity_labels[predictions[i]],\n",
        "        confidence=float(pred_proba[i].max())\n",
        "    )\n",
        "    \n",
        "    sample.save()\n",
        "\n",
        "print(\"✅ Predictions added to dataset\")\n",
        "print(\"   Fields added:\")\n",
        "print(\"      • severity_numeric (int) - for filtering\")\n",
        "print(\"      • prediction_confidence (float) - confidence score\")\n",
        "print(\"      • severity_label (string) - human readable\")\n",
        "print(\"      • predicted_severity (Classification) - for brain functions\")\n",
        "print()"
      ]
    },
    {
      "cell_type": "markdown",
      "metadata": {},
      "source": [
        "## 📈 Section 10: Confusion Matrix"
      ]
    },
    {
      "cell_type": "code",
      "execution_count": 27,
      "metadata": {},
      "outputs": [
        {
          "name": "stdout",
          "output_type": "stream",
          "text": [
            "Classes in test set: [np.int64(1), np.int64(2), np.int64(3)]\n",
            "Labels: ['Mild', 'Moderate', 'Severe']\n"
          ]
        },
        {
          "data": {
            "image/png": "[encoded data removed]",
            "text/plain": [
              "<Figure size 800x600 with 2 Axes>"
            ]
          },
          "metadata": {},
          "output_type": "display_data"
        },
        {
          "name": "stdout",
          "output_type": "stream",
          "text": [
            "\n",
            "✅ Confusion matrix plotted\n",
            "   Classes shown: 3\n"
          ]
        }
      ],
      "source": [
        "# Plot confusion matrix\n",
        "fig, ax = plt.subplots(figsize=(8, 6))\n",
        "\n",
        "# Get unique classes in test set\n",
        "unique_classes = sorted(y_test.unique())\n",
        "labels_in_test = [severity_labels[i] for i in unique_classes]\n",
        "\n",
        "print(f\"Classes in test set: {unique_classes}\")\n",
        "print(f\"Labels: {labels_in_test}\")\n",
        "\n",
        "# Create confusion matrix with only classes present in test set\n",
        "cm = ConfusionMatrixDisplay.from_predictions(\n",
        "    y_test, y_pred, \n",
        "    labels=unique_classes,  # Only use classes present in test set\n",
        "    display_labels=labels_in_test,  # Corresponding labels\n",
        "    ax=ax, \n",
        "    cmap='Blues'\n",
        ")\n",
        "\n",
        "plt.title('Confusion Matrix - Severity Classification', fontsize=14, fontweight='bold')\n",
        "plt.tight_layout()\n",
        "plt.show()\n",
        "\n",
        "print(f\"\\n✅ Confusion matrix plotted\")\n",
        "print(f\"   Classes shown: {len(unique_classes)}\")"
      ]
    },
    {
      "cell_type": "markdown",
      "metadata": {},
      "source": [
        "## 🧠 Section 11: FiftyOne Brain Functions"
      ]
    },
    {
      "cell_type": "code",
      "execution_count": 28,
      "metadata": {},
      "outputs": [
        {
          "name": "stdout",
          "output_type": "stream",
          "text": [
            "================================================================================\n",
            "FIFTYONE BRAIN FUNCTIONS (LATEST API)\n",
            "================================================================================\n",
            "\n",
            "✅ Embeddings available - computing brain functions...\n"
          ]
        }
      ],
      "source": [
        "print(\"=\"*80)\n",
        "print(\"FIFTYONE BRAIN FUNCTIONS (LATEST API)\")\n",
        "print(\"=\"*80 + \"\\n\")\n",
        "\n",
        "if not EMBEDDINGS_AVAILABLE:\n",
        "    print(\"⚠️  Embeddings not available. Skipping brain functions.\")\n",
        "    print(\"   Please run the embeddings cell first.\")\n",
        "else:\n",
        "    print(\"✅ Embeddings available - computing brain functions...\")"
      ]
    },
    {
      "cell_type": "markdown",
      "metadata": {},
      "source": [
        "### 🔍 Brain Function 1: Similarity Search"
      ]
    },
    {
      "cell_type": "code",
      "execution_count": 29,
      "metadata": {},
      "outputs": [
        {
          "name": "stdout",
          "output_type": "stream",
          "text": [
            "🔍 Computing Similarity...\n",
            "✅ Similarity computed\n",
            "   Test: Found 6 similar images to IDRiD_01\n",
            "   Top 3 similar images:\n",
            "      1. IDRiD_61 - Area: 10.28%\n",
            "      2. IDRiD_38 - Area: 0.45%\n",
            "      3. IDRiD_71 - Area: 3.05%\n"
          ]
        }
      ],
      "source": [
        "if EMBEDDINGS_AVAILABLE:\n",
        "    print(\"🔍 Computing Similarity...\")\n",
        "    try:\n",
        "        # Check if already computed\n",
        "        if \"similarity\" in dataset.list_brain_runs():\n",
        "            print(\"   Similarity already computed, deleting old run...\")\n",
        "            dataset.delete_brain_run(\"similarity\")\n",
        "        \n",
        "        # Compute similarity\n",
        "        fob.compute_similarity(\n",
        "            dataset,\n",
        "            embeddings=\"embeddings\",\n",
        "            brain_key=\"similarity\"\n",
        "        )\n",
        "        print(\"✅ Similarity computed\")\n",
        "        \n",
        "        # Test similarity search\n",
        "        sample = dataset.first()\n",
        "        similar_view = dataset.sort_by_similarity(sample.id, k=6, brain_key=\"similarity\")\n",
        "        print(f\"   Test: Found {len(similar_view)} similar images to {sample.image_id}\")\n",
        "        \n",
        "        # Show top 3 similar\n",
        "        print(\"   Top 3 similar images:\")\n",
        "        for i, s in enumerate(similar_view.skip(1).limit(3), 1):\n",
        "            print(f\"      {i}. {s.image_id} - Area: {s.total_lesion_area:.2f}%\")\n",
        "            \n",
        "    except Exception as e:\n",
        "        print(f\"⚠️  Similarity failed: {str(e)}\")\n",
        "        print(f\"   Error type: {type(e).__name__}\")\n",
        "        import traceback\n",
        "        print(\"   Traceback:\")\n",
        "        traceback.print_exc()\n",
        "else:\n",
        "    print(\"⚠️  Skipping similarity - embeddings not available\")"
      ]
    },
    {
      "cell_type": "markdown",
      "metadata": {},
      "source": [
        "### 🎯 Brain Function 2: Uniqueness Detection"
      ]
    },
    {
      "cell_type": "code",
      "execution_count": 30,
      "metadata": {},
      "outputs": [
        {
          "name": "stdout",
          "output_type": "stream",
          "text": [
            "\n",
            "🎯 Computing Uniqueness...\n",
            "Computing uniqueness...\n",
            "Uniqueness computation complete\n",
            "✅ Uniqueness computed\n",
            "   Top 5 unique samples:\n",
            "      1. IDRiD_75 - Uniqueness: 1.0000 - Lesions: 4\n",
            "      2. IDRiD_32 - Uniqueness: 0.9933 - Lesions: 4\n",
            "      3. IDRiD_81 - Uniqueness: 0.9486 - Lesions: 3\n",
            "      4. IDRiD_33 - Uniqueness: 0.9480 - Lesions: 4\n",
            "      5. IDRiD_43 - Uniqueness: 0.9329 - Lesions: 2\n"
          ]
        }
      ],
      "source": [
        "if EMBEDDINGS_AVAILABLE:\n",
        "    print(\"\\n🎯 Computing Uniqueness...\")\n",
        "    try:\n",
        "        # Check if already computed\n",
        "        if \"uniqueness\" in dataset.get_field_schema():\n",
        "            print(\"   Uniqueness already computed, will overwrite...\")\n",
        "        \n",
        "        # Compute uniqueness\n",
        "        fob.compute_uniqueness(\n",
        "            dataset,\n",
        "            embeddings=\"embeddings\",\n",
        "            uniqueness_field=\"uniqueness\"\n",
        "        )\n",
        "        print(\"✅ Uniqueness computed\")\n",
        "        \n",
        "        # Show top unique samples\n",
        "        unique_view = dataset.sort_by(\"uniqueness\", reverse=True).limit(5)\n",
        "        print(\"   Top 5 unique samples:\")\n",
        "        for i, s in enumerate(unique_view, 1):\n",
        "            print(f\"      {i}. {s.image_id} - Uniqueness: {s.uniqueness:.4f} - Lesions: {s.lesion_count}\")\n",
        "            \n",
        "    except Exception as e:\n",
        "        print(f\"⚠️  Uniqueness failed: {str(e)}\")\n",
        "        print(f\"   Error type: {type(e).__name__}\")\n",
        "        import traceback\n",
        "        print(\"   Traceback:\")\n",
        "        traceback.print_exc()\n",
        "else:\n",
        "    print(\"⚠️  Skipping uniqueness - embeddings not available\")"
      ]
    },
    {
      "cell_type": "markdown",
      "metadata": {},
      "source": [
        "### 🎓 Brain Function 3: Hardness Computation"
      ]
    },
    {
      "cell_type": "code",
      "execution_count": 31,
      "metadata": {},
      "outputs": [
        {
          "name": "stdout",
          "output_type": "stream",
          "text": [
            "\n",
            "🎓 Computing Hardness...\n",
            "Computing hardness...\n",
            "   0% |/------------------|  0/81 [10.2ms elapsed, ? remaining, ? samples/s] \n",
            "⚠️  Hardness failed: Sample '68ff71b9c9909e1b8169af99' field 'predicted_severity' has no logits\n",
            "   Error type: ValueError\n",
            "   Traceback:\n"
          ]
        },
        {
          "name": "stderr",
          "output_type": "stream",
          "text": [
            "Traceback (most recent call last):\n",
            "  File \"/var/folders/9_/n8s5994d0zg2f3q30g4x8d880000gn/T/ipykernel_23167/3672128393.py\", line 17, in <module>\n",
            "    fob.compute_hardness(\n",
            "  File \"/opt/miniconda3/envs/51eye/lib/python3.12/site-packages/fiftyone/brain/__init__.py\", line 64, in compute_hardness\n",
            "    return fbh.compute_hardness(samples, label_field, hardness_field, progress)\n",
            "           ^^^^^^^^^^^^^^^^^^^^^^^^^^^^^^^^^^^^^^^^^^^^^^^^^^^^^^^^^^^^^^^^^^^^\n",
            "  File \"/opt/miniconda3/envs/51eye/lib/python3.12/site-packages/fiftyone/brain/internal/core/hardness.py\", line 61, in compute_hardness\n",
            "    hardness = brain_method.process_image(image)\n",
            "               ^^^^^^^^^^^^^^^^^^^^^^^^^^^^^^^^^\n",
            "  File \"/opt/miniconda3/envs/51eye/lib/python3.12/site-packages/fiftyone/brain/internal/core/hardness.py\", line 111, in process_image\n",
            "    label = _get_data(sample_or_frame, self.label_field)\n",
            "            ^^^^^^^^^^^^^^^^^^^^^^^^^^^^^^^^^^^^^^^^^^^^\n",
            "  File \"/opt/miniconda3/envs/51eye/lib/python3.12/site-packages/fiftyone/brain/internal/core/hardness.py\", line 148, in _get_data\n",
            "    raise ValueError(\n",
            "ValueError: Sample '68ff71b9c9909e1b8169af99' field 'predicted_severity' has no logits\n"
          ]
        }
      ],
      "source": [
        "if EMBEDDINGS_AVAILABLE:\n",
        "    print(\"\\n🎓 Computing Hardness...\")\n",
        "    try:\n",
        "        # Verify predictions are Classification objects\n",
        "        sample = dataset.first()\n",
        "        if not hasattr(sample, 'predicted_severity'):\n",
        "            print(\"❌ No predictions found. Please run ML cells first.\")\n",
        "        elif not isinstance(sample.predicted_severity, fo.Classification):\n",
        "            print(f\"❌ Predictions are {type(sample.predicted_severity).__name__}, not Classification\")\n",
        "            print(\"   Please run the 'Add Predictions' cell first\")\n",
        "        else:\n",
        "            # Check if already computed\n",
        "            if \"hardness\" in dataset.get_field_schema():\n",
        "                print(\"   Hardness already computed, will overwrite...\")\n",
        "            \n",
        "            # Compute hardness\n",
        "            fob.compute_hardness(\n",
        "                dataset,\n",
        "                label_field=\"predicted_severity\",\n",
        "                hardness_field=\"hardness\"\n",
        "            )\n",
        "            print(\"✅ Hardness computed\")\n",
        "            \n",
        "            # Show hardest samples\n",
        "            hard_view = dataset.sort_by(\"hardness\", reverse=True).limit(5)\n",
        "            print(\"   Top 5 hardest samples:\")\n",
        "            for i, s in enumerate(hard_view, 1):\n",
        "                print(f\"      {i}. {s.image_id} - Hardness: {s.hardness:.4f} - Pred: {s.predicted_severity.label}\")\n",
        "                \n",
        "    except Exception as e:\n",
        "        print(f\"⚠️  Hardness failed: {str(e)}\")\n",
        "        print(f\"   Error type: {type(e).__name__}\")\n",
        "        import traceback\n",
        "        print(\"   Traceback:\")\n",
        "        traceback.print_exc()\n",
        "else:\n",
        "    print(\"⚠️  Skipping hardness - embeddings not available\")"
      ]
    },
    {
      "cell_type": "markdown",
      "metadata": {},
      "source": [
        "### 📊 Brain Function 4: UMAP Visualization"
      ]
    },
    {
      "cell_type": "code",
      "execution_count": 32,
      "metadata": {},
      "outputs": [
        {
          "name": "stdout",
          "output_type": "stream",
          "text": [
            "\n",
            "📊 Computing UMAP Visualization...\n",
            "   Computing UMAP (this may take 10-30 seconds)...\n",
            "Generating visualization...\n",
            "✅ UMAP visualization computed\n",
            "   View in FiftyOne App:\n",
            "      1. Click 'Embeddings' button\n",
            "      2. Select 'umap_viz' from dropdown\n",
            "      3. Color by 'severity_label' or 'lesion_count'\n"
          ]
        }
      ],
      "source": [
        "if EMBEDDINGS_AVAILABLE:\n",
        "    print(\"\\n📊 Computing UMAP Visualization...\")\n",
        "    try:\n",
        "        # Check if already computed\n",
        "        if \"umap_viz\" in dataset.list_brain_runs():\n",
        "            print(\"   UMAP already computed, deleting old run...\")\n",
        "            dataset.delete_brain_run(\"umap_viz\")\n",
        "        \n",
        "        # Compute visualization\n",
        "        print(\"   Computing UMAP (this may take 10-30 seconds)...\")\n",
        "        fob.compute_visualization(\n",
        "            dataset,\n",
        "            embeddings=\"embeddings\",\n",
        "            method=\"umap\",\n",
        "            brain_key=\"umap_viz\",\n",
        "            num_dims=2,\n",
        "            verbose=False\n",
        "        )\n",
        "        print(\"✅ UMAP visualization computed\")\n",
        "        print(\"   View in FiftyOne App:\")\n",
        "        print(\"      1. Click 'Embeddings' button\")\n",
        "        print(\"      2. Select 'umap_viz' from dropdown\")\n",
        "        print(\"      3. Color by 'severity_label' or 'lesion_count'\")\n",
        "        \n",
        "    except Exception as e:\n",
        "        print(f\"⚠️  Visualization failed: {str(e)}\")\n",
        "        print(f\"   Error type: {type(e).__name__}\")\n",
        "        import traceback\n",
        "        print(\"   Traceback:\")\n",
        "        traceback.print_exc()\n",
        "else:\n",
        "    print(\"⚠️  Skipping visualization - embeddings not available\")"
      ]
    },
    {
      "cell_type": "markdown",
      "metadata": {},
      "source": [
        "## 📋 Section 12: Dataset Summary"
      ]
    },
    {
      "cell_type": "code",
      "execution_count": 33,
      "metadata": {},
      "outputs": [
        {
          "name": "stdout",
          "output_type": "stream",
          "text": [
            "\n",
            "================================================================================\n",
            "DATASET SUMMARY\n",
            "================================================================================\n",
            "\n",
            "📦 Dataset: idrid_segmentation\n",
            "   Total: 81 samples\n",
            "   Train: 54\n",
            "   Test: 27\n",
            "\n",
            "🧠 Brain Functions:\n",
            "   ✅ hardness\n",
            "   ✅ similarity\n",
            "   ✅ umap_viz\n",
            "   ✅ uniqueness\n",
            "\n",
            "🎯 Available Features:\n",
            "   • Segmentation masks (5 lesion types)\n",
            "   • Area measurements\n",
            "   • ML predictions & confidence\n",
            "   • Severity labels\n",
            "   • Image embeddings\n",
            "   • Similarity search\n",
            "   • Uniqueness scores\n",
            "   • Hardness scores\n",
            "   • UMAP visualization\n"
          ]
        }
      ],
      "source": [
        "print(\"\\n\" + \"=\"*80)\n",
        "print(\"DATASET SUMMARY\")\n",
        "print(\"=\"*80 + \"\\n\")\n",
        "\n",
        "print(f\"📦 Dataset: {DATASET_NAME}\")\n",
        "print(f\"   Total: {len(dataset)} samples\")\n",
        "print(f\"   Train: {len(dataset.match(fo.ViewField('split') == 'train'))}\")\n",
        "print(f\"   Test: {len(dataset.match(fo.ViewField('split') == 'test'))}\")\n",
        "\n",
        "print(\"\\n🧠 Brain Functions:\")\n",
        "brain_runs = dataset.list_brain_runs()\n",
        "if brain_runs:\n",
        "    for run in brain_runs:\n",
        "        print(f\"   ✅ {run}\")\n",
        "else:\n",
        "    print(\"   ⚠️  No brain functions computed\")\n",
        "\n",
        "print(\"\\n🎯 Available Features:\")\n",
        "print(\"   • Segmentation masks (5 lesion types)\")\n",
        "print(\"   • Area measurements\")\n",
        "print(\"   • ML predictions & confidence\")\n",
        "print(\"   • Severity labels\")\n",
        "if EMBEDDINGS_AVAILABLE:\n",
        "    print(\"   • Image embeddings\")\n",
        "    print(\"   • Similarity search\")\n",
        "    print(\"   • Uniqueness scores\")\n",
        "    print(\"   • Hardness scores\")\n",
        "    print(\"   • UMAP visualization\")"
      ]
    },
    {
      "cell_type": "markdown",
      "metadata": {},
      "source": [
        "## 🚀 Section 13: Launch FiftyOne App"
      ]
    },
    {
      "cell_type": "code",
      "execution_count": 34,
      "metadata": {},
      "outputs": [
        {
          "name": "stdout",
          "output_type": "stream",
          "text": [
            "\n",
            "================================================================================\n",
            "LAUNCHING FIFTYONE APP\n",
            "================================================================================\n",
            "\n",
            "🚀 Starting FiftyOne App at http://localhost:5151\n",
            "\n",
            "📌 Available Features:\n",
            "   • View images with segmentation masks\n",
            "   • Filter by split, lesion type, severity\n",
            "   • Sort by uniqueness, hardness, confidence\n",
            "   • Similarity search (click image)\n",
            "   • Embeddings visualization (Embeddings panel)\n",
            "\n",
            "💡 Tips:\n",
            "   • Click 'Embeddings' button for UMAP viz\n",
            "   • Select sample for similarity search\n",
            "   • Sort by 'hardness' for difficult samples\n",
            "   • Sort by 'uniqueness' for outliers\n",
            "\n",
            "================================================================================\n",
            "✅ READY TO LAUNCH\n",
            "================================================================================\n",
            "\n"
          ]
        },
        {
          "data": {
            "text/html": [
              "\n",
              "        <iframe\n",
              "            width=\"100%\"\n",
              "            height=\"800\"\n",
              "            src=\"http://localhost:5151/?notebook=True&subscription=b9b74167-f0f7-45c8-af2f-da5e1bce2336\"\n",
              "            frameborder=\"0\"\n",
              "            allowfullscreen\n",
              "            \n",
              "        ></iframe>\n",
              "        "
            ],
            "text/plain": [
              "<IPython.lib.display.IFrame at 0x31343b770>"
            ]
          },
          "metadata": {},
          "output_type": "display_data"
        }
      ],
      "source": [
        "print(\"\\n\" + \"=\"*80)\n",
        "print(\"LAUNCHING FIFTYONE APP\")\n",
        "print(\"=\"*80 + \"\\n\")\n",
        "\n",
        "print(\"🚀 Starting FiftyOne App at http://localhost:5151\\n\")\n",
        "print(\"📌 Available Features:\")\n",
        "print(\"   • View images with segmentation masks\")\n",
        "print(\"   • Filter by split, lesion type, severity\")\n",
        "print(\"   • Sort by uniqueness, hardness, confidence\")\n",
        "if EMBEDDINGS_AVAILABLE:\n",
        "    print(\"   • Similarity search (click image)\")\n",
        "    print(\"   • Embeddings visualization (Embeddings panel)\")\n",
        "\n",
        "print(\"\\n💡 Tips:\")\n",
        "print(\"   • Click 'Embeddings' button for UMAP viz\")\n",
        "print(\"   • Select sample for similarity search\")\n",
        "print(\"   • Sort by 'hardness' for difficult samples\")\n",
        "print(\"   • Sort by 'uniqueness' for outliers\")\n",
        "\n",
        "print(\"\\n\" + \"=\"*80)\n",
        "print(\"✅ READY TO LAUNCH\")\n",
        "print(\"=\"*80 + \"\\n\")\n",
        "\n",
        "# Launch app\n",
        "session = fo.launch_app(dataset, port=5151)"
      ]
    }
  ],
  "metadata": {
    "kernelspec": {
      "display_name": "Python 3",
      "language": "python",
      "name": "python3"
    },
    "language_info": {
      "codemirror_mode": {
        "name": "ipython",
        "version": 3
      },
      "file_extension": ".py",
      "mimetype": "text/x-python",
      "name": "python",
      "nbconvert_exporter": "python",
      "pygments_lexer": "ipython3",
      "version": "3.8.0"
    }
  },
  "nbformat": 4,
  "nbformat_minor": 4
}
